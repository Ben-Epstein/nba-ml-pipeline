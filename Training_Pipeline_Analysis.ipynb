{
 "cells": [
  {
   "cell_type": "code",
   "execution_count": null,
   "id": "534a029e",
   "metadata": {},
   "outputs": [],
   "source": [
    "from zenml.integrations.evidently.visualizers import EvidentlyVisualizer\n",
    "import json\n",
    "\n",
    "repo = Repository()\n",
    "p = repo.get_pipeline(pipeline_name='training_pipeline')\n",
    "last_run = p.runs[-1]\n",
    "drift_analysis_step = last_run.get_step(\n",
    "    name=\"drift_analyzer\"\n",
    ")\n",
    "print(f'Data drift detected: {drift_analysis_step.output.read()}')\n",
    "\n",
    "drift_detection_step = last_run.get_step(\n",
    "    name=\"drift_detecter\"\n",
    ")\n",
    "evidently_outputs = drift_detection_step\n",
    "\n",
    "EvidentlyVisualizer().visualize(evidently_outputs)"
   ]
  }
 ],
 "metadata": {
  "kernelspec": {
   "display_name": "Python 3 (ipykernel)",
   "language": "python",
   "name": "python3"
  },
  "language_info": {
   "codemirror_mode": {
    "name": "ipython",
    "version": 3
   },
   "file_extension": ".py",
   "mimetype": "text/x-python",
   "name": "python",
   "nbconvert_exporter": "python",
   "pygments_lexer": "ipython3",
   "version": "3.8.10"
  }
 },
 "nbformat": 4,
 "nbformat_minor": 5
}
